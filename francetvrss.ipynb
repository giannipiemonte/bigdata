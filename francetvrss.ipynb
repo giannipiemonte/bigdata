{
 "cells": [
  {
   "cell_type": "code",
   "execution_count": 1,
   "metadata": {},
   "outputs": [
    {
     "name": "stdout",
     "output_type": "stream",
     "text": [
      "dict_keys(['title', 'title_detail', 'subtitle', 'subtitle_detail', 'published', 'published_parsed', 'generator_detail', 'generator', 'links', 'link'])\n",
      "Feed Title: Franceinfo - Les Titres\n",
      "Feed Link: https://www.francetvinfo.fr/titres/ \n",
      "\n",
      "VIDEO. Crise en Ukraine : à Milové, la guerre de tranchées a commencé \n",
      " Alors que la tension reste plus que palpable entre la Russie et l'Ukraine, la voie diplomatique tente d'amorcer une désescalade. Mais la situation reste compliquée. La commune de Milové en est l'exemple, coupée en deux entre les deux pays. \n",
      " Sat, 29 Jan 2022 21:28:32 +0100 \n",
      " https://www.francetvinfo.fr/replay-jt/france-2/20-heures/conflit-ukraine-russie-la-recente-escalade-de-tensions-nourrit-la-vigilance-des-soldats_4934209.html#xtor=RSS-3-[lestitres] \n",
      "\n",
      "Présidentielle : on vous explique la proposition d'ISF climatique portée par Hidalgo, Jadot et Mélenchon \n",
      " Plusieurs candidats de gauche à la présidentielle proposent de réinstaurer un impôt de solidarité sur la fortune en l'indexant sur l'impact carbone des placements financiers des ménages les plus riches. \n",
      " Sat, 29 Jan 2022 10:34:38 +0100 \n",
      " https://www.francetvinfo.fr/elections/presidentielle/presidentielle-on-vous-explique-la-proposition-d-isf-climatique-portee-par-hidalgo-jadot-et-melenchon_4921023.html#xtor=RSS-3-[lestitres] \n",
      "\n",
      "Reportage de \"Zone Interdite\" à Roubaix : menacés, Ophélie Meunier et un habitant ont été placés sous protection policière \n",
      " La chaîne M6 a diffusé dimanche un reportage en partie consacré à l'islamisme dans la ville de Roubaix, près de Lille.  \n",
      " Sat, 29 Jan 2022 19:49:46 +0100 \n",
      " https://www.francetvinfo.fr/france/hauts-de-france/nord/reportage-de-zone-interdite-a-roubaix-ophelie-meunier-et-un-habitant-ont-ete-places-sous-protection-policiere_4934171.html#xtor=RSS-3-[lestitres] \n",
      "\n",
      "Toulouse : trois questions sur les fugues de patients de deux hôpitaux psychiatriques \n",
      " En dix jours, quatre patients hospitalisés dans des unités psychiatriques à Toulouse, s'en sont échappés. Le dernier a été retrouvé samedi soir à Paris. \n",
      " Sat, 29 Jan 2022 21:48:24 +0100 \n",
      " https://www.francetvinfo.fr/faits-divers/toulouse-trois-questions-sur-les-fugues-de-patients-de-deux-hopitaux-psychiatriques_4933813.html#xtor=RSS-3-[lestitres] \n",
      "\n",
      "Italie : le président Sergio Mattarella officiellement réélu pour un second septennat \n",
      " Le président italien, qui ne comptait pas se représenter dans un premier temps, a recueilli la majorité absolue de 505 suffrages sur 1 009 grands électeurs appelés à voter. \n",
      " Sat, 29 Jan 2022 21:00:45 +0100 \n",
      " https://www.francetvinfo.fr/monde/italie/italie-le-president-sergio-mattarella-officiellement-reelu-pour-un-second-septennat_4934191.html#xtor=RSS-3-[lestitres] \n",
      "\n"
     ]
    }
   ],
   "source": [
    "import feedparser\n",
    "import pandas as pd\n",
    "from bs4 import BeautifulSoup\n",
    "import re\n",
    "\n",
    "# Création d'une instance\n",
    "news_feed = feedparser.parse('https://www.francetvinfo.fr/titres.rss')\n",
    "\n",
    "\n",
    "# Propriétés du flux\n",
    "print(news_feed.feed.keys())\n",
    "\n",
    "# Titre du flux\n",
    "print(\"Feed Title:\", news_feed.feed.title) \n",
    "\n",
    "# Lien du flux\n",
    "print(\"Feed Link:\", news_feed.feed.link, \"\\n\")\n",
    "\n",
    "reg1 = re.compile(r'&nbsp;') #Regex to clean all &nbsp \n",
    "\n",
    "\n",
    "for entry in news_feed.entries[:5]:\n",
    "    print(f\"{entry.title} \\n {reg1.sub(' ', entry.description)} \\n {entry.published} \\n {entry.link}\", \"\\n\")\n",
    "  "
   ]
  },
  {
   "cell_type": "code",
   "execution_count": 2,
   "metadata": {},
   "outputs": [],
   "source": [
    "df = pd.DataFrame()\n",
    "\n",
    "df['title'] = [entry.title for entry in news_feed.entries]\n",
    "df['description'] = [reg1.sub(' ', entry.description) for entry in news_feed.entries]\n",
    "df['published'] = [entry.published for entry in news_feed.entries]\n",
    "df['link'] = [entry.link for entry in news_feed.entries]\n",
    "\n",
    "df.to_csv('francetvinfo.csv', index=False)"
   ]
  },
  {
   "cell_type": "code",
   "execution_count": null,
   "metadata": {},
   "outputs": [],
   "source": []
  },
  {
   "cell_type": "raw",
   "metadata": {},
   "source": [
    "# Pre-requisite - Import the DictWriter class from csv  module\n",
    "from csv import DictWriter\n",
    "  \n",
    "# The list of column names as mentioned in the CSV file\n",
    "headersCSV = ['title','description','published', 'link']      \n",
    "# The data assigned to the dictionary \n",
    "dict={\n",
    "    'title':entry.title,\n",
    "    'description':reg1.sub(' ', entry.description),\n",
    "    'published':entry.published,\n",
    "    'link':entry.link}\n",
    "  \n",
    "# Pre-requisite - The CSV file should be manually closed before running this code.\n",
    "\n",
    "# First, open the old CSV file in append mode, hence mentioned as 'a'\n",
    "# Then, for the CSV file, create a file object\n",
    "with open('francetvinfo.csv', 'a', newline='', encoding='utf-8') as f_object:\n",
    "    # Pass the CSV  file object to the Dictwriter() function\n",
    "    # Result - a DictWriter object\n",
    "    dictwriter_object = DictWriter(f_object, fieldnames=headersCSV)\n",
    "    # Pass the data in the dictionary as an argument into the writerow() function\n",
    "    dictwriter_object.writerow(dict)\n",
    "    # Close the file object\n",
    "    f_object.close()\n",
    "    \n",
    "    \n",
    "    writer.writerow({fieldnames[i]: data[i] for i in range(0,len(data))})"
   ]
  }
 ],
 "metadata": {
  "kernelspec": {
   "display_name": "Python 3 (ipykernel)",
   "language": "python",
   "name": "python3"
  },
  "language_info": {
   "codemirror_mode": {
    "name": "ipython",
    "version": 3
   },
   "file_extension": ".py",
   "mimetype": "text/x-python",
   "name": "python",
   "nbconvert_exporter": "python",
   "pygments_lexer": "ipython3",
   "version": "3.10.0"
  }
 },
 "nbformat": 4,
 "nbformat_minor": 4
}
